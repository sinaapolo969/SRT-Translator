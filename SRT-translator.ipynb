{
 "cells": [
  {
   "cell_type": "code",
   "execution_count": null,
   "id": "f71fd659",
   "metadata": {},
   "outputs": [],
   "source": [
    "pip install pandas \n",
    "pip install googletrans==3.1.0a0"
   ]
  },
  {
   "cell_type": "code",
   "execution_count": null,
   "id": "1dffbd0e",
   "metadata": {},
   "outputs": [],
   "source": [
    "import pandas as pd\n",
    "from googletrans import Translator\n",
    "import re"
   ]
  },
  {
   "cell_type": "code",
   "execution_count": 2,
   "id": "0b31c50e",
   "metadata": {},
   "outputs": [],
   "source": [
    "df = pd.read_excel('file path')"
   ]
  },
  {
   "cell_type": "code",
   "execution_count": 3,
   "id": "ddc1410b",
   "metadata": {
    "scrolled": false
   },
   "outputs": [],
   "source": [
    "df.fillna(0, inplace = True)"
   ]
  },
  {
   "cell_type": "code",
   "execution_count": 10,
   "id": "8c95b693",
   "metadata": {
    "scrolled": true
   },
   "outputs": [],
   "source": [
    "\n",
    "translator = Translator()"
   ]
  },
  {
   "cell_type": "code",
   "execution_count": 24,
   "id": "eac255a9",
   "metadata": {},
   "outputs": [],
   "source": [
    "for i in range(len(df[1])):\n",
    "    if type(df[1][i]) != int:\n",
    "        if re.search(\"[a-z]\", df[1][i]):\n",
    "            x = translator.translate(df[1][i], dest = 'fa')\n",
    "            df[1][i] = x.text"
   ]
  },
  {
   "cell_type": "code",
   "execution_count": 25,
   "id": "e76691ff",
   "metadata": {
    "scrolled": false
   },
   "outputs": [],
   "source": [
    "with open('subtittle.srt', 'w') as f:\n",
    "    for i in df[1]:\n",
    "        if i == 0:\n",
    "            f.write('\\n')\n",
    "        else:\n",
    "            f.write(str(i))\n",
    "            f.write('\\n')"
   ]
  }
 ],
 "metadata": {
  "kernelspec": {
   "display_name": "Python 3 (ipykernel)",
   "language": "python",
   "name": "python3"
  },
  "language_info": {
   "codemirror_mode": {
    "name": "ipython",
    "version": 3
   },
   "file_extension": ".py",
   "mimetype": "text/x-python",
   "name": "python",
   "nbconvert_exporter": "python",
   "pygments_lexer": "ipython3",
   "version": "3.10.7"
  }
 },
 "nbformat": 4,
 "nbformat_minor": 5
}
